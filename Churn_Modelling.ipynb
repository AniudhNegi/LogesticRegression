{
 "cells": [
  {
   "cell_type": "code",
   "execution_count": 1,
   "metadata": {},
   "outputs": [],
   "source": [
    "using Pkg"
   ]
  },
  {
   "cell_type": "code",
   "execution_count": 6,
   "metadata": {},
   "outputs": [
    {
     "name": "stderr",
     "output_type": "stream",
     "text": [
      "\u001b[32m\u001b[1m  Resolving\u001b[22m\u001b[39m package versions...\n",
      "\u001b[32m\u001b[1mNo Changes\u001b[22m\u001b[39m to `C:\\Users\\aniru\\.julia\\environments\\v1.5\\Project.toml`\n",
      "\u001b[32m\u001b[1mNo Changes\u001b[22m\u001b[39m to `C:\\Users\\aniru\\.julia\\environments\\v1.5\\Manifest.toml`\n",
      "\u001b[32m\u001b[1m  Resolving\u001b[22m\u001b[39m package versions...\n",
      "\u001b[32m\u001b[1mNo Changes\u001b[22m\u001b[39m to `C:\\Users\\aniru\\.julia\\environments\\v1.5\\Project.toml`\n",
      "\u001b[32m\u001b[1mNo Changes\u001b[22m\u001b[39m to `C:\\Users\\aniru\\.julia\\environments\\v1.5\\Manifest.toml`\n",
      "\u001b[32m\u001b[1m  Resolving\u001b[22m\u001b[39m package versions...\n",
      "\u001b[32m\u001b[1mNo Changes\u001b[22m\u001b[39m to `C:\\Users\\aniru\\.julia\\environments\\v1.5\\Project.toml`\n",
      "\u001b[32m\u001b[1mNo Changes\u001b[22m\u001b[39m to `C:\\Users\\aniru\\.julia\\environments\\v1.5\\Manifest.toml`\n",
      "┌ Info: Precompiling ROCAnalysis [f535d66d-59bb-5153-8d2b-ef0a426c6aff]\n",
      "└ @ Base loading.jl:1278\n"
     ]
    },
    {
     "data": {
      "text/plain": [
       "1000"
      ]
     },
     "execution_count": 6,
     "metadata": {},
     "output_type": "execute_result"
    }
   ],
   "source": [
    "Pkg.add(\"StatsBase\")\n",
    "Pkg.add(\"ClassImbalance\")\n",
    "Pkg.add(\"ROCAnalysis\")\n",
    "using Pkg\n",
    "using DataFrames\n",
    "using CSV\n",
    "using Plots\n",
    "using GLM\n",
    "using StatsBase\n",
    "using Lathe\n",
    "using MLBase\n",
    "using ClassImbalance\n",
    "using ROCAnalysis\n",
    "\n",
    "# Enable printing of 1000 columns:\n",
    "ENV[\"COLUMNS\"] = 1000"
   ]
  },
  {
   "cell_type": "code",
   "execution_count": 7,
   "metadata": {},
   "outputs": [
    {
     "data": {
      "text/html": [
       "<table class=\"data-frame\"><thead><tr><th></th><th>RowNumber</th><th>CustomerId</th><th>Surname</th><th>CreditScore</th><th>Geography</th><th>Gender</th><th>Age</th><th>Tenure</th><th>Balance</th><th>NumOfProducts</th><th>HasCrCard</th><th>IsActiveMember</th><th>EstimatedSalary</th><th>Exited</th></tr><tr><th></th><th>Int64</th><th>Int64</th><th>String</th><th>Int64</th><th>String</th><th>String</th><th>Int64</th><th>Int64</th><th>Float64</th><th>Int64</th><th>Int64</th><th>Int64</th><th>Float64</th><th>Int64</th></tr></thead><tbody><p>5 rows × 14 columns</p><tr><th>1</th><td>1</td><td>15634602</td><td>Hargrave</td><td>619</td><td>France</td><td>Female</td><td>42</td><td>2</td><td>0.0</td><td>1</td><td>1</td><td>1</td><td>1.01349e5</td><td>1</td></tr><tr><th>2</th><td>2</td><td>15647311</td><td>Hill</td><td>608</td><td>Spain</td><td>Female</td><td>41</td><td>1</td><td>83807.9</td><td>1</td><td>0</td><td>1</td><td>1.12543e5</td><td>0</td></tr><tr><th>3</th><td>3</td><td>15619304</td><td>Onio</td><td>502</td><td>France</td><td>Female</td><td>42</td><td>8</td><td>1.59661e5</td><td>3</td><td>1</td><td>0</td><td>1.13932e5</td><td>1</td></tr><tr><th>4</th><td>4</td><td>15701354</td><td>Boni</td><td>699</td><td>France</td><td>Female</td><td>39</td><td>1</td><td>0.0</td><td>2</td><td>0</td><td>0</td><td>93826.6</td><td>0</td></tr><tr><th>5</th><td>5</td><td>15737888</td><td>Mitchell</td><td>850</td><td>Spain</td><td>Female</td><td>43</td><td>2</td><td>1.25511e5</td><td>1</td><td>1</td><td>1</td><td>79084.1</td><td>0</td></tr></tbody></table>"
      ],
      "text/latex": [
       "\\begin{tabular}{r|cccccccccccccc}\n",
       "\t& RowNumber & CustomerId & Surname & CreditScore & Geography & Gender & Age & Tenure & Balance & NumOfProducts & HasCrCard & IsActiveMember & EstimatedSalary & Exited\\\\\n",
       "\t\\hline\n",
       "\t& Int64 & Int64 & String & Int64 & String & String & Int64 & Int64 & Float64 & Int64 & Int64 & Int64 & Float64 & Int64\\\\\n",
       "\t\\hline\n",
       "\t1 & 1 & 15634602 & Hargrave & 619 & France & Female & 42 & 2 & 0.0 & 1 & 1 & 1 & 1.01349e5 & 1 \\\\\n",
       "\t2 & 2 & 15647311 & Hill & 608 & Spain & Female & 41 & 1 & 83807.9 & 1 & 0 & 1 & 1.12543e5 & 0 \\\\\n",
       "\t3 & 3 & 15619304 & Onio & 502 & France & Female & 42 & 8 & 1.59661e5 & 3 & 1 & 0 & 1.13932e5 & 1 \\\\\n",
       "\t4 & 4 & 15701354 & Boni & 699 & France & Female & 39 & 1 & 0.0 & 2 & 0 & 0 & 93826.6 & 0 \\\\\n",
       "\t5 & 5 & 15737888 & Mitchell & 850 & Spain & Female & 43 & 2 & 1.25511e5 & 1 & 1 & 1 & 79084.1 & 0 \\\\\n",
       "\\end{tabular}\n"
      ],
      "text/plain": [
       "5×14 DataFrame\n",
       "│ Row │ RowNumber │ CustomerId │ Surname  │ CreditScore │ Geography │ Gender │ Age   │ Tenure │ Balance   │ NumOfProducts │ HasCrCard │ IsActiveMember │ EstimatedSalary │ Exited │\n",
       "│     │ \u001b[90mInt64\u001b[39m     │ \u001b[90mInt64\u001b[39m      │ \u001b[90mString\u001b[39m   │ \u001b[90mInt64\u001b[39m       │ \u001b[90mString\u001b[39m    │ \u001b[90mString\u001b[39m │ \u001b[90mInt64\u001b[39m │ \u001b[90mInt64\u001b[39m  │ \u001b[90mFloat64\u001b[39m   │ \u001b[90mInt64\u001b[39m         │ \u001b[90mInt64\u001b[39m     │ \u001b[90mInt64\u001b[39m          │ \u001b[90mFloat64\u001b[39m         │ \u001b[90mInt64\u001b[39m  │\n",
       "├─────┼───────────┼────────────┼──────────┼─────────────┼───────────┼────────┼───────┼────────┼───────────┼───────────────┼───────────┼────────────────┼─────────────────┼────────┤\n",
       "│ 1   │ 1         │ 15634602   │ Hargrave │ 619         │ France    │ Female │ 42    │ 2      │ 0.0       │ 1             │ 1         │ 1              │ 1.01349e5       │ 1      │\n",
       "│ 2   │ 2         │ 15647311   │ Hill     │ 608         │ Spain     │ Female │ 41    │ 1      │ 83807.9   │ 1             │ 0         │ 1              │ 1.12543e5       │ 0      │\n",
       "│ 3   │ 3         │ 15619304   │ Onio     │ 502         │ France    │ Female │ 42    │ 8      │ 1.59661e5 │ 3             │ 1         │ 0              │ 1.13932e5       │ 1      │\n",
       "│ 4   │ 4         │ 15701354   │ Boni     │ 699         │ France    │ Female │ 39    │ 1      │ 0.0       │ 2             │ 0         │ 0              │ 93826.6         │ 0      │\n",
       "│ 5   │ 5         │ 15737888   │ Mitchell │ 850         │ Spain     │ Female │ 43    │ 2      │ 1.25511e5 │ 1             │ 1         │ 1              │ 79084.1         │ 0      │"
      ]
     },
     "execution_count": 7,
     "metadata": {},
     "output_type": "execute_result"
    }
   ],
   "source": [
    "# To Read File\n",
    "df = DataFrame(CSV.File(\"Churn_Modelling.csv\"))\n",
    "first(df,5)"
   ]
  },
  {
   "cell_type": "code",
   "execution_count": 11,
   "metadata": {},
   "outputs": [
    {
     "name": "stdout",
     "output_type": "stream",
     "text": [
      "(10000, 14)\n"
     ]
    },
    {
     "data": {
      "text/html": [
       "<table class=\"data-frame\"><thead><tr><th></th><th>variable</th><th>mean</th><th>min</th><th>median</th><th>max</th><th>nunique</th><th>nmissing</th><th>eltype</th></tr><tr><th></th><th>Symbol</th><th>Union…</th><th>Any</th><th>Union…</th><th>Any</th><th>Union…</th><th>Nothing</th><th>DataType</th></tr></thead><tbody><p>14 rows × 8 columns</p><tr><th>1</th><td>RowNumber</td><td>5000.5</td><td>1</td><td>5000.5</td><td>10000</td><td></td><td></td><td>Int64</td></tr><tr><th>2</th><td>CustomerId</td><td>1.56909e7</td><td>15565701</td><td>1.56907e7</td><td>15815690</td><td></td><td></td><td>Int64</td></tr><tr><th>3</th><td>Surname</td><td></td><td>Abazu</td><td></td><td>Zuyeva</td><td>2932</td><td></td><td>String</td></tr><tr><th>4</th><td>CreditScore</td><td>650.529</td><td>350</td><td>652.0</td><td>850</td><td></td><td></td><td>Int64</td></tr><tr><th>5</th><td>Geography</td><td></td><td>France</td><td></td><td>Spain</td><td>3</td><td></td><td>String</td></tr><tr><th>6</th><td>Gender</td><td></td><td>Female</td><td></td><td>Male</td><td>2</td><td></td><td>String</td></tr><tr><th>7</th><td>Age</td><td>38.9218</td><td>18</td><td>37.0</td><td>92</td><td></td><td></td><td>Int64</td></tr><tr><th>8</th><td>Tenure</td><td>5.0128</td><td>0</td><td>5.0</td><td>10</td><td></td><td></td><td>Int64</td></tr><tr><th>9</th><td>Balance</td><td>76485.9</td><td>0.0</td><td>97198.5</td><td>2.50898e5</td><td></td><td></td><td>Float64</td></tr><tr><th>10</th><td>NumOfProducts</td><td>1.5302</td><td>1</td><td>1.0</td><td>4</td><td></td><td></td><td>Int64</td></tr><tr><th>11</th><td>HasCrCard</td><td>0.7055</td><td>0</td><td>1.0</td><td>1</td><td></td><td></td><td>Int64</td></tr><tr><th>12</th><td>IsActiveMember</td><td>0.5151</td><td>0</td><td>1.0</td><td>1</td><td></td><td></td><td>Int64</td></tr><tr><th>13</th><td>EstimatedSalary</td><td>1.0009e5</td><td>11.58</td><td>1.00194e5</td><td>1.99992e5</td><td></td><td></td><td>Float64</td></tr><tr><th>14</th><td>Exited</td><td>0.2037</td><td>0</td><td>0.0</td><td>1</td><td></td><td></td><td>Int64</td></tr></tbody></table>"
      ],
      "text/latex": [
       "\\begin{tabular}{r|cccccccc}\n",
       "\t& variable & mean & min & median & max & nunique & nmissing & eltype\\\\\n",
       "\t\\hline\n",
       "\t& Symbol & Union… & Any & Union… & Any & Union… & Nothing & DataType\\\\\n",
       "\t\\hline\n",
       "\t1 & RowNumber & 5000.5 & 1 & 5000.5 & 10000 &  &  & Int64 \\\\\n",
       "\t2 & CustomerId & 1.56909e7 & 15565701 & 1.56907e7 & 15815690 &  &  & Int64 \\\\\n",
       "\t3 & Surname &  & Abazu &  & Zuyeva & 2932 &  & String \\\\\n",
       "\t4 & CreditScore & 650.529 & 350 & 652.0 & 850 &  &  & Int64 \\\\\n",
       "\t5 & Geography &  & France &  & Spain & 3 &  & String \\\\\n",
       "\t6 & Gender &  & Female &  & Male & 2 &  & String \\\\\n",
       "\t7 & Age & 38.9218 & 18 & 37.0 & 92 &  &  & Int64 \\\\\n",
       "\t8 & Tenure & 5.0128 & 0 & 5.0 & 10 &  &  & Int64 \\\\\n",
       "\t9 & Balance & 76485.9 & 0.0 & 97198.5 & 2.50898e5 &  &  & Float64 \\\\\n",
       "\t10 & NumOfProducts & 1.5302 & 1 & 1.0 & 4 &  &  & Int64 \\\\\n",
       "\t11 & HasCrCard & 0.7055 & 0 & 1.0 & 1 &  &  & Int64 \\\\\n",
       "\t12 & IsActiveMember & 0.5151 & 0 & 1.0 & 1 &  &  & Int64 \\\\\n",
       "\t13 & EstimatedSalary & 1.0009e5 & 11.58 & 1.00194e5 & 1.99992e5 &  &  & Float64 \\\\\n",
       "\t14 & Exited & 0.2037 & 0 & 0.0 & 1 &  &  & Int64 \\\\\n",
       "\\end{tabular}\n"
      ],
      "text/plain": [
       "14×8 DataFrame\n",
       "│ Row │ variable        │ mean      │ min      │ median    │ max       │ nunique │ nmissing │ eltype   │\n",
       "│     │ \u001b[90mSymbol\u001b[39m          │ \u001b[90mUnion…\u001b[39m    │ \u001b[90mAny\u001b[39m      │ \u001b[90mUnion…\u001b[39m    │ \u001b[90mAny\u001b[39m       │ \u001b[90mUnion…\u001b[39m  │ \u001b[90mNothing\u001b[39m  │ \u001b[90mDataType\u001b[39m │\n",
       "├─────┼─────────────────┼───────────┼──────────┼───────────┼───────────┼─────────┼──────────┼──────────┤\n",
       "│ 1   │ RowNumber       │ 5000.5    │ 1        │ 5000.5    │ 10000     │         │          │ Int64    │\n",
       "│ 2   │ CustomerId      │ 1.56909e7 │ 15565701 │ 1.56907e7 │ 15815690  │         │          │ Int64    │\n",
       "│ 3   │ Surname         │           │ Abazu    │           │ Zuyeva    │ 2932    │          │ String   │\n",
       "│ 4   │ CreditScore     │ 650.529   │ 350      │ 652.0     │ 850       │         │          │ Int64    │\n",
       "│ 5   │ Geography       │           │ France   │           │ Spain     │ 3       │          │ String   │\n",
       "│ 6   │ Gender          │           │ Female   │           │ Male      │ 2       │          │ String   │\n",
       "│ 7   │ Age             │ 38.9218   │ 18       │ 37.0      │ 92        │         │          │ Int64    │\n",
       "│ 8   │ Tenure          │ 5.0128    │ 0        │ 5.0       │ 10        │         │          │ Int64    │\n",
       "│ 9   │ Balance         │ 76485.9   │ 0.0      │ 97198.5   │ 2.50898e5 │         │          │ Float64  │\n",
       "│ 10  │ NumOfProducts   │ 1.5302    │ 1        │ 1.0       │ 4         │         │          │ Int64    │\n",
       "│ 11  │ HasCrCard       │ 0.7055    │ 0        │ 1.0       │ 1         │         │          │ Int64    │\n",
       "│ 12  │ IsActiveMember  │ 0.5151    │ 0        │ 1.0       │ 1         │         │          │ Int64    │\n",
       "│ 13  │ EstimatedSalary │ 1.0009e5  │ 11.58    │ 1.00194e5 │ 1.99992e5 │         │          │ Float64  │\n",
       "│ 14  │ Exited          │ 0.2037    │ 0        │ 0.0       │ 1         │         │          │ Int64    │"
      ]
     },
     "execution_count": 11,
     "metadata": {},
     "output_type": "execute_result"
    }
   ],
   "source": [
    "# Summary Of Data\n",
    "println(size(df))\n",
    "describe(df)"
   ]
  },
  {
   "cell_type": "code",
   "execution_count": 12,
   "metadata": {},
   "outputs": [
    {
     "data": {
      "text/plain": [
       "14-element Array{Symbol,1}:\n",
       " :RowNumber\n",
       " :CustomerId\n",
       " :Surname\n",
       " :CreditScore\n",
       " :Geography\n",
       " :Gender\n",
       " :Age\n",
       " :Tenure\n",
       " :Balance\n",
       " :NumOfProducts\n",
       " :HasCrCard\n",
       " :IsActiveMember\n",
       " :EstimatedSalary\n",
       " :Exited"
      ]
     },
     "execution_count": 12,
     "metadata": {},
     "output_type": "execute_result"
    }
   ],
   "source": [
    "# Checking The Name Of The Columns In Data.\n",
    "names(df)"
   ]
  },
  {
   "cell_type": "code",
   "execution_count": 13,
   "metadata": {},
   "outputs": [
    {
     "data": {
      "text/plain": [
       "Dict{Int64,Int64} with 2 entries:\n",
       "  0 => 7963\n",
       "  1 => 2037"
      ]
     },
     "execution_count": 13,
     "metadata": {},
     "output_type": "execute_result"
    }
   ],
   "source": [
    "# Checking The Number Of Responses In The Response Variable \n",
    "countmap(df.Exited)"
   ]
  },
  {
   "cell_type": "markdown",
   "metadata": {},
   "source": [
    "# One Hot Encoding"
   ]
  },
  {
   "cell_type": "code",
   "execution_count": 16,
   "metadata": {},
   "outputs": [
    {
     "data": {
      "text/html": [
       "<table class=\"data-frame\"><thead><tr><th></th><th>CreditScore</th><th>Age</th><th>Tenure</th><th>Balance</th><th>NumOfProducts</th><th>HasCrCard</th><th>IsActiveMember</th><th>EstimatedSalary</th><th>Exited</th><th>France</th><th>Spain</th><th>Germany</th><th>Female</th></tr><tr><th></th><th>Int64</th><th>Int64</th><th>Int64</th><th>Float64</th><th>Int64</th><th>Int64</th><th>Int64</th><th>Float64</th><th>Int64</th><th>Bool</th><th>Bool</th><th>Bool</th><th>Bool</th></tr></thead><tbody><p>5 rows × 13 columns</p><tr><th>1</th><td>619</td><td>42</td><td>2</td><td>0.0</td><td>1</td><td>1</td><td>1</td><td>1.01349e5</td><td>1</td><td>1</td><td>0</td><td>0</td><td>1</td></tr><tr><th>2</th><td>608</td><td>41</td><td>1</td><td>83807.9</td><td>1</td><td>0</td><td>1</td><td>1.12543e5</td><td>0</td><td>0</td><td>1</td><td>0</td><td>1</td></tr><tr><th>3</th><td>502</td><td>42</td><td>8</td><td>1.59661e5</td><td>3</td><td>1</td><td>0</td><td>1.13932e5</td><td>1</td><td>1</td><td>0</td><td>0</td><td>1</td></tr><tr><th>4</th><td>699</td><td>39</td><td>1</td><td>0.0</td><td>2</td><td>0</td><td>0</td><td>93826.6</td><td>0</td><td>1</td><td>0</td><td>0</td><td>1</td></tr><tr><th>5</th><td>850</td><td>43</td><td>2</td><td>1.25511e5</td><td>1</td><td>1</td><td>1</td><td>79084.1</td><td>0</td><td>0</td><td>1</td><td>0</td><td>1</td></tr></tbody></table>"
      ],
      "text/latex": [
       "\\begin{tabular}{r|ccccccccccccc}\n",
       "\t& CreditScore & Age & Tenure & Balance & NumOfProducts & HasCrCard & IsActiveMember & EstimatedSalary & Exited & France & Spain & Germany & Female\\\\\n",
       "\t\\hline\n",
       "\t& Int64 & Int64 & Int64 & Float64 & Int64 & Int64 & Int64 & Float64 & Int64 & Bool & Bool & Bool & Bool\\\\\n",
       "\t\\hline\n",
       "\t1 & 619 & 42 & 2 & 0.0 & 1 & 1 & 1 & 1.01349e5 & 1 & 1 & 0 & 0 & 1 \\\\\n",
       "\t2 & 608 & 41 & 1 & 83807.9 & 1 & 0 & 1 & 1.12543e5 & 0 & 0 & 1 & 0 & 1 \\\\\n",
       "\t3 & 502 & 42 & 8 & 1.59661e5 & 3 & 1 & 0 & 1.13932e5 & 1 & 1 & 0 & 0 & 1 \\\\\n",
       "\t4 & 699 & 39 & 1 & 0.0 & 2 & 0 & 0 & 93826.6 & 0 & 1 & 0 & 0 & 1 \\\\\n",
       "\t5 & 850 & 43 & 2 & 1.25511e5 & 1 & 1 & 1 & 79084.1 & 0 & 0 & 1 & 0 & 1 \\\\\n",
       "\\end{tabular}\n"
      ],
      "text/plain": [
       "5×13 DataFrame\n",
       "│ Row │ CreditScore │ Age   │ Tenure │ Balance   │ NumOfProducts │ HasCrCard │ IsActiveMember │ EstimatedSalary │ Exited │ France │ Spain │ Germany │ Female │\n",
       "│     │ \u001b[90mInt64\u001b[39m       │ \u001b[90mInt64\u001b[39m │ \u001b[90mInt64\u001b[39m  │ \u001b[90mFloat64\u001b[39m   │ \u001b[90mInt64\u001b[39m         │ \u001b[90mInt64\u001b[39m     │ \u001b[90mInt64\u001b[39m          │ \u001b[90mFloat64\u001b[39m         │ \u001b[90mInt64\u001b[39m  │ \u001b[90mBool\u001b[39m   │ \u001b[90mBool\u001b[39m  │ \u001b[90mBool\u001b[39m    │ \u001b[90mBool\u001b[39m   │\n",
       "├─────┼─────────────┼───────┼────────┼───────────┼───────────────┼───────────┼────────────────┼─────────────────┼────────┼────────┼───────┼─────────┼────────┤\n",
       "│ 1   │ 619         │ 42    │ 2      │ 0.0       │ 1             │ 1         │ 1              │ 1.01349e5       │ 1      │ 1      │ 0     │ 0       │ 1      │\n",
       "│ 2   │ 608         │ 41    │ 1      │ 83807.9   │ 1             │ 0         │ 1              │ 1.12543e5       │ 0      │ 0      │ 1     │ 0       │ 1      │\n",
       "│ 3   │ 502         │ 42    │ 8      │ 1.59661e5 │ 3             │ 1         │ 0              │ 1.13932e5       │ 1      │ 1      │ 0     │ 0       │ 1      │\n",
       "│ 4   │ 699         │ 39    │ 1      │ 0.0       │ 2             │ 0         │ 0              │ 93826.6         │ 0      │ 1      │ 0     │ 0       │ 1      │\n",
       "│ 5   │ 850         │ 43    │ 2      │ 1.25511e5 │ 1             │ 1         │ 1              │ 79084.1         │ 0      │ 0      │ 1     │ 0       │ 1      │"
      ]
     },
     "execution_count": 16,
     "metadata": {},
     "output_type": "execute_result"
    }
   ],
   "source": [
    "Lathe.preprocess.OneHotEncode(df,:Geography)\n",
    "Lathe.preprocess.OneHotEncode(df,:Gender)\n",
    "select!(df, Not([:RowNumber, :CustomerId, :Surname, :Geography, :Gender, :Male]))\n",
    "\n",
    "first(df,5)"
   ]
  },
  {
   "cell_type": "markdown",
   "metadata": {},
   "source": [
    "# TRAIN TEST SPLIT"
   ]
  },
  {
   "cell_type": "code",
   "execution_count": 18,
   "metadata": {},
   "outputs": [],
   "source": [
    "using Lathe.preprocess: TrainTestSplit\n",
    "train, test = TrainTestSplit(df,.75);"
   ]
  },
  {
   "cell_type": "markdown",
   "metadata": {},
   "source": [
    "# MODEL BUILDING"
   ]
  },
  {
   "cell_type": "code",
   "execution_count": 20,
   "metadata": {},
   "outputs": [
    {
     "data": {
      "text/plain": [
       "StatsModels.TableRegressionModel{GeneralizedLinearModel{GLM.GlmResp{Array{Float64,1},Binomial{Float64},ProbitLink},GLM.DensePredChol{Float64,LinearAlgebra.Cholesky{Float64,Array{Float64,2}}}},Array{Float64,2}}\n",
       "\n",
       "Exited ~ 1 + CreditScore + Age + Tenure + Balance + NumOfProducts + HasCrCard + IsActiveMember + EstimatedSalary + Female + France + Spain\n",
       "\n",
       "Coefficients:\n",
       "──────────────────────────────────────────────────────────────────────────────────────\n",
       "                        Coef.  Std. Error       z  Pr(>|z|)     Lower 95%    Upper 95%\n",
       "──────────────────────────────────────────────────────────────────────────────────────\n",
       "(Intercept)      -1.95766      0.166273    -11.77    <1e-31  -2.28355      -1.63177\n",
       "CreditScore      -0.000307902  0.00018358   -1.68    0.0935  -0.000667712   5.19076e-5\n",
       "Age               0.0416341    0.00167323   24.88    <1e-99   0.0383546     0.0449136\n",
       "Tenure           -0.00665231   0.00615402   -1.08    0.2797  -0.018714      0.00540933\n",
       "Balance           1.6508e-6    3.3306e-7     4.96    <1e-6    9.98017e-7    2.30359e-6\n",
       "NumOfProducts    -0.0371855    0.0312857    -1.19    0.2346  -0.0985043     0.0241334\n",
       "HasCrCard        -0.0372375    0.0388108    -0.96    0.3373  -0.113305      0.0388303\n",
       "IsActiveMember   -0.580639     0.0367602   -15.80    <1e-55  -0.652687     -0.50859\n",
       "EstimatedSalary   3.56113e-7   3.09273e-7    1.15    0.2495  -2.50052e-7    9.62278e-7\n",
       "Female            0.295304     0.0355566     8.31    <1e-16   0.225615      0.364994\n",
       "France           -0.417587     0.0448989    -9.30    <1e-19  -0.505587     -0.329586\n",
       "Spain            -0.398912     0.0517026    -7.72    <1e-13  -0.500248     -0.297577\n",
       "──────────────────────────────────────────────────────────────────────────────────────"
      ]
     },
     "execution_count": 20,
     "metadata": {},
     "output_type": "execute_result"
    }
   ],
   "source": [
    "fm = @formula(Exited ~ CreditScore + Age + Tenure +Balance +NumOfProducts + HasCrCard + IsActiveMember + EstimatedSalary + Female + France +Spain)\n",
    "logit = glm(fm, train, Binomial(), ProbitLink())"
   ]
  },
  {
   "cell_type": "markdown",
   "metadata": {},
   "source": [
    "# MODEL PREDICTION AND EVALUATION"
   ]
  },
  {
   "cell_type": "code",
   "execution_count": 35,
   "metadata": {},
   "outputs": [
    {
     "data": {
      "text/plain": [
       "2530-element Array{Union{Missing, Float64},1}:\n",
       " 0.167089058333461\n",
       " 0.2588221197456982\n",
       " 0.09994399226210413\n",
       " 0.13177448414676038\n",
       " 0.023959875880486835\n",
       " 0.01606921213838634\n",
       " 0.20053346441560138\n",
       " 0.11650207660489639\n",
       " 0.05772575577698183\n",
       " 0.5305438208262888\n",
       " 0.43941186653593983\n",
       " 0.24817123563811003\n",
       " 0.3908707029677382\n",
       " ⋮\n",
       " 0.04233966811226046\n",
       " 0.056063508010365484\n",
       " 0.046084815510856046\n",
       " 0.4433909439263192\n",
       " 0.2605319637980514\n",
       " 0.1634605596393764\n",
       " 0.18462106475104717\n",
       " 0.36376215009725077\n",
       " 0.2214321784047832\n",
       " 0.18179750676955142\n",
       " 0.040817854368545146\n",
       " 0.15135444104009682"
      ]
     },
     "execution_count": 35,
     "metadata": {},
     "output_type": "execute_result"
    }
   ],
   "source": [
    "#  Predict The Targer Variable On Test Data\n",
    "prediction = predict(logit, test)"
   ]
  },
  {
   "cell_type": "code",
   "execution_count": null,
   "metadata": {},
   "outputs": [],
   "source": []
  }
 ],
 "metadata": {
  "kernelspec": {
   "display_name": "Julia 1.5.4",
   "language": "julia",
   "name": "julia-1.5"
  },
  "language_info": {
   "file_extension": ".jl",
   "mimetype": "application/julia",
   "name": "julia",
   "version": "1.5.4"
  }
 },
 "nbformat": 4,
 "nbformat_minor": 4
}
